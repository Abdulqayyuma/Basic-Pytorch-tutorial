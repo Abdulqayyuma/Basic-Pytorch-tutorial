{
 "cells": [
  {
   "cell_type": "markdown",
   "metadata": {},
   "source": [
    "# Tutorial Overview\n",
    "\n",
    "Prerequisites:\n",
    "•you have implemented machine learning models yourself\n",
    "•you know what deep learning is\n",
    "•you have used numpy\n",
    "•maybe you have used tensorflow or similar libs\n",
    "•if you use PyTorch on a daily basis, this tutorial is probably not for you\n",
    "\n",
    "Goals:\n",
    "•understand PyTorch\n",
    "•overview of all concepts\n",
    "•be able to use transfer learning in PyTorch\n",
    "•know some handy tools/libs\n",
    "\n"
   ]
  },
  {
   "cell_type": "markdown",
   "metadata": {},
   "source": [
    "# PyTorch Overview\n",
    "\n",
    "\n",
    "> \"PyTorch - Tensors and Dynamic neural networks in Python\n",
    "with strong GPU acceleration.\n",
    "PyTorch is a deep learning framework for fast, flexible experimentation.\"\n",
    "-- https://pytorch.org/*\n",
    "\n",
    "![](img/dynamic_graph.gif)"
   ]
  },
  {
   "cell_type": "markdown",
   "metadata": {},
   "source": [
    "# The Other libraries for deep learning\n",
    "•torch\n",
    "•TensorFlow\n",
    "•MXNet\n",
    "•Keras\n",
    "•CNTK\n",
    "•caffe\n",
    "•caffe2\n",
    "•many many more\n",
    "\n",
    "References\n",
    "•Twitter: https://twitter.com/PyTorch\n",
    "•Tutorials: https://pytorch.org/tutorials/\n",
    "•Examples: https://github.com/pytorch/examples\n",
    "•API Reference: https://pytorch.org/docs/stable/index.html\n",
    "•Torchvision: https://pytorch.org/docs/stable/torchvision/index.html\n",
    "•PyTorch Text: https://github.com/pytorch/text\n",
    "•PyTorch Audio: https://github.com/pytorch/audio\n",
    "•Facebook AI Research Sequence-to-Sequence Toolkit written in PyTorch: https://github.com/pytorch/fairseq\n",
    "•FastAI http://www.fast.ai/\n",
    "•Stanford CS230 Deep Learning notes https://cs230-stanford.github.io\n"
   ]
  },
  {
   "cell_type": "markdown",
   "metadata": {},
   "source": [
    "# Versions"
   ]
  },
  {
   "cell_type": "code",
   "execution_count": 43,
   "metadata": {},
   "outputs": [
    {
     "data": {
      "text/plain": [
       "'0.4.1'"
      ]
     },
     "execution_count": 43,
     "metadata": {},
     "output_type": "execute_result"
    }
   ],
   "source": [
    "import torch\n",
    "torch.__version__"
   ]
  },
  {
   "cell_type": "code",
   "execution_count": 44,
   "metadata": {},
   "outputs": [
    {
     "data": {
      "text/plain": [
       "'0.2.1'"
      ]
     },
     "execution_count": 44,
     "metadata": {},
     "output_type": "execute_result"
    }
   ],
   "source": [
    "import torchvision\n",
    "torchvision.__version__"
   ]
  },
  {
   "cell_type": "code",
   "execution_count": 45,
   "metadata": {},
   "outputs": [
    {
     "data": {
      "text/plain": [
       "'1.14.3'"
      ]
     },
     "execution_count": 45,
     "metadata": {},
     "output_type": "execute_result"
    }
   ],
   "source": [
    "import numpy as np\n",
    "np.__version__"
   ]
  },
  {
   "cell_type": "markdown",
   "metadata": {},
   "source": [
    "# PyTorch Basics"
   ]
  },
  {
   "cell_type": "markdown",
   "metadata": {},
   "source": [
    "# Init, helpers, utils, ..."
   ]
  },
  {
   "cell_type": "code",
   "execution_count": 46,
   "metadata": {},
   "outputs": [],
   "source": [
    "import torch\n",
    "import torch.nn as nn\n",
    "import torch.nn.functional as F\n",
    "import torchvision"
   ]
  },
  {
   "cell_type": "code",
   "execution_count": 5,
   "metadata": {},
   "outputs": [],
   "source": [
    "import matplotlib.pyplot as plt\n",
    "from pprint import pprint\n",
    "import numpy as np\n",
    "\n",
    "from IPython.core.debugger import set_trace\n",
    "\n",
    "%matplotlib inline"
   ]
  },
  {
   "cell_type": "markdown",
   "metadata": {},
   "source": [
    "# Tensors\n",
    "\n",
    "tensors - the atoms of machine learning\n"
   ]
  },
  {
   "cell_type": "markdown",
   "metadata": {},
   "source": [
    "# Tensors in numpy and pytorch"
   ]
  },
  {
   "cell_type": "code",
   "execution_count": 47,
   "metadata": {},
   "outputs": [],
   "source": [
    "import numpy as np\n",
    "from numpy.linalg import inv\n",
    "from numpy.linalg import multi_dot as mdot"
   ]
  },
  {
   "cell_type": "code",
   "execution_count": 48,
   "metadata": {},
   "outputs": [],
   "source": [
    "import torch"
   ]
  },
  {
   "cell_type": "code",
   "execution_count": 49,
   "metadata": {},
   "outputs": [
    {
     "data": {
      "text/plain": [
       "array([[1., 0., 0.],\n",
       "       [0., 1., 0.],\n",
       "       [0., 0., 1.]])"
      ]
     },
     "execution_count": 49,
     "metadata": {},
     "output_type": "execute_result"
    }
   ],
   "source": [
    "# numpy\n",
    "np.eye(3)"
   ]
  },
  {
   "cell_type": "code",
   "execution_count": 50,
   "metadata": {},
   "outputs": [
    {
     "data": {
      "text/plain": [
       "tensor([[1., 0., 0.],\n",
       "        [0., 1., 0.],\n",
       "        [0., 0., 1.]])"
      ]
     },
     "execution_count": 50,
     "metadata": {},
     "output_type": "execute_result"
    }
   ],
   "source": [
    "# torch\n",
    "torch.eye(3)"
   ]
  },
  {
   "cell_type": "code",
   "execution_count": 51,
   "metadata": {},
   "outputs": [
    {
     "data": {
      "text/plain": [
       "array([[0.5741698 , 0.35250539, 0.13904366],\n",
       "       [0.76878253, 0.25478541, 0.48301982],\n",
       "       [0.87906977, 0.83931179, 0.49337768],\n",
       "       [0.66706167, 0.09558871, 0.26496556],\n",
       "       [0.57078431, 0.03566482, 0.68512815]])"
      ]
     },
     "execution_count": 51,
     "metadata": {},
     "output_type": "execute_result"
    }
   ],
   "source": [
    "# numpy\n",
    "X = np.random.random((5, 3))\n",
    "X"
   ]
  },
  {
   "cell_type": "code",
   "execution_count": 52,
   "metadata": {},
   "outputs": [
    {
     "data": {
      "text/plain": [
       "tensor([[0.6293, 0.8402, 0.9496],\n",
       "        [0.8855, 0.3726, 0.0148],\n",
       "        [0.1101, 0.0812, 0.6591],\n",
       "        [0.0416, 0.1309, 0.4909],\n",
       "        [0.8975, 0.5165, 0.2812]])"
      ]
     },
     "execution_count": 52,
     "metadata": {},
     "output_type": "execute_result"
    }
   ],
   "source": [
    "# pytorch\n",
    "Y = torch.rand((5, 3))\n",
    "Y"
   ]
  },
  {
   "cell_type": "code",
   "execution_count": 12,
   "metadata": {},
   "outputs": [
    {
     "data": {
      "text/plain": [
       "(5, 3)"
      ]
     },
     "execution_count": 12,
     "metadata": {},
     "output_type": "execute_result"
    }
   ],
   "source": [
    "X.shape"
   ]
  },
  {
   "cell_type": "code",
   "execution_count": 13,
   "metadata": {},
   "outputs": [
    {
     "data": {
      "text/plain": [
       "torch.Size([5, 3])"
      ]
     },
     "execution_count": 13,
     "metadata": {},
     "output_type": "execute_result"
    }
   ],
   "source": [
    "Y.shape"
   ]
  },
  {
   "cell_type": "code",
   "execution_count": 14,
   "metadata": {},
   "outputs": [
    {
     "data": {
      "text/plain": [
       "tensor([[2., 1., 1.],\n",
       "        [1., 2., 1.],\n",
       "        [1., 1., 2.]])"
      ]
     },
     "execution_count": 14,
     "metadata": {},
     "output_type": "execute_result"
    }
   ],
   "source": [
    "A = torch.eye(3)\n",
    "A.add(1)"
   ]
  },
  {
   "cell_type": "code",
   "execution_count": 15,
   "metadata": {},
   "outputs": [
    {
     "data": {
      "text/plain": [
       "tensor([[1., 0., 0.],\n",
       "        [0., 1., 0.],\n",
       "        [0., 0., 1.]])"
      ]
     },
     "execution_count": 15,
     "metadata": {},
     "output_type": "execute_result"
    }
   ],
   "source": [
    "A"
   ]
  },
  {
   "cell_type": "code",
   "execution_count": 16,
   "metadata": {},
   "outputs": [
    {
     "data": {
      "text/plain": [
       "tensor([[2., 1., 1.],\n",
       "        [1., 2., 1.],\n",
       "        [1., 1., 2.]])"
      ]
     },
     "execution_count": 16,
     "metadata": {},
     "output_type": "execute_result"
    }
   ],
   "source": [
    "A.add_(1)\n",
    "A"
   ]
  },
  {
   "cell_type": "markdown",
   "metadata": {},
   "source": [
    "# Layers : Fundamental blocks of Neural Network"
   ]
  },
  {
   "cell_type": "code",
   "execution_count": 53,
   "metadata": {},
   "outputs": [],
   "source": [
    "import torch\n",
    "from torch.nn import Linear, ReLU\n",
    "import torch.nn as nn\n",
    "import numpy as np\n",
    "from torch.autograd import Variable"
   ]
  },
  {
   "cell_type": "code",
   "execution_count": 54,
   "metadata": {},
   "outputs": [
    {
     "data": {
      "text/plain": [
       "tensor([[ 0.1427, -0.3085,  0.3076,  0.0849, -0.0213]], grad_fn=<ThAddmmBackward>)"
      ]
     },
     "execution_count": 54,
     "metadata": {},
     "output_type": "execute_result"
    }
   ],
   "source": [
    "myLayer = Linear(in_features=10,out_features=5,bias=True)\n",
    "inp = Variable(torch.randn(1,10))\n",
    "myLayer = Linear(in_features=10,out_features=5,bias=True) \n",
    "myLayer(inp)"
   ]
  },
  {
   "cell_type": "code",
   "execution_count": 19,
   "metadata": {},
   "outputs": [
    {
     "data": {
      "text/plain": [
       "Parameter containing:\n",
       "tensor([[ 0.0716,  0.1070,  0.1401, -0.1882,  0.2411, -0.1106, -0.0088, -0.2605,\n",
       "         -0.2624,  0.0546],\n",
       "        [-0.0088, -0.1735, -0.1660,  0.2673,  0.2763,  0.1156, -0.0650, -0.0535,\n",
       "         -0.1501, -0.2498],\n",
       "        [-0.2418, -0.1802, -0.1770,  0.1397, -0.2949, -0.1457, -0.1210, -0.1899,\n",
       "          0.1367,  0.1737],\n",
       "        [-0.1709,  0.0913,  0.0792, -0.0100, -0.2654, -0.3160, -0.0837,  0.2616,\n",
       "          0.0731, -0.3105],\n",
       "        [ 0.0057, -0.1962, -0.1376, -0.0453,  0.0574, -0.1765, -0.0533,  0.2376,\n",
       "          0.0391,  0.3130]], requires_grad=True)"
      ]
     },
     "execution_count": 19,
     "metadata": {},
     "output_type": "execute_result"
    }
   ],
   "source": [
    "myLayer.weight"
   ]
  },
  {
   "cell_type": "code",
   "execution_count": 55,
   "metadata": {},
   "outputs": [
    {
     "data": {
      "text/plain": [
       "Parameter containing:\n",
       "tensor([ 0.0956,  0.1297, -0.1820,  0.0370,  0.0199], requires_grad=True)"
      ]
     },
     "execution_count": 55,
     "metadata": {},
     "output_type": "execute_result"
    }
   ],
   "source": [
    "myLayer.bias"
   ]
  },
  {
   "cell_type": "markdown",
   "metadata": {},
   "source": [
    "# PyTorch Non-linear Activations"
   ]
  },
  {
   "cell_type": "code",
   "execution_count": 56,
   "metadata": {},
   "outputs": [
    {
     "data": {
      "text/plain": [
       "tensor([[1., 2., 0., 0.]])"
      ]
     },
     "execution_count": 56,
     "metadata": {},
     "output_type": "execute_result"
    }
   ],
   "source": [
    "sample_data = Variable(torch.Tensor([[1,2,-1,-1]])) \n",
    "myRelu = ReLU()\n",
    "myRelu(sample_data)"
   ]
  },
  {
   "cell_type": "code",
   "execution_count": 57,
   "metadata": {},
   "outputs": [
    {
     "data": {
      "text/plain": [
       "tensor([[1., 2., 0., 0.]])"
      ]
     },
     "execution_count": 57,
     "metadata": {},
     "output_type": "execute_result"
    }
   ],
   "source": [
    "import torch.nn as nn\n",
    "import torch.nn.functional as F\n",
    "sample_data = Variable(torch.Tensor([[1,2,-1,-1]])) \n",
    "f = F.relu(sample_data) # Much simpler.\n",
    "f"
   ]
  },
  {
   "cell_type": "markdown",
   "metadata": {},
   "source": [
    "# Data Download and testing"
   ]
  },
  {
   "cell_type": "code",
   "execution_count": 23,
   "metadata": {},
   "outputs": [],
   "source": [
    "from glob import glob\n",
    "import os\n",
    "import numpy as np\n",
    "import matplotlib.pyplot as plt\n",
    "import shutil\n",
    "from torchvision import transforms\n",
    "from torchvision import models\n",
    "import torch\n",
    "from torch.autograd import Variable\n",
    "import torch.nn as nn\n",
    "from torch.optim import lr_scheduler\n",
    "from torch import optim\n",
    "from torchvision.datasets import ImageFolder\n",
    "from torchvision.utils import make_grid\n",
    "import time\n",
    "%matplotlib inline"
   ]
  },
  {
   "cell_type": "code",
   "execution_count": 24,
   "metadata": {},
   "outputs": [],
   "source": [
    "def imshow(inp):\n",
    "    \"\"\"Imshow for Tensor.\"\"\"\n",
    "    inp = inp.numpy().transpose((1, 2, 0))\n",
    "    mean = np.array([0.485, 0.456, 0.406])\n",
    "    std = np.array([0.229, 0.224, 0.225])\n",
    "    inp = std * inp + mean\n",
    "    inp = np.clip(inp, 0, 1)\n",
    "    plt.imshow(inp)"
   ]
  },
  {
   "cell_type": "markdown",
   "metadata": {},
   "source": [
    "# Create validation data set"
   ]
  },
  {
   "cell_type": "code",
   "execution_count": 58,
   "metadata": {},
   "outputs": [],
   "source": [
    "\n",
    "# https://www.kaggle.com/c/dogs-vs-cats downlaod the dataset and use your computer link\n",
    "\n",
    "path = 'C:/Users/UTP/Desktop/Pythonbooks/data1/dogsandcats'"
   ]
  },
  {
   "cell_type": "code",
   "execution_count": 59,
   "metadata": {},
   "outputs": [],
   "source": [
    "files = glob(os.path.join(path,'*/*.jpg'))"
   ]
  },
  {
   "cell_type": "code",
   "execution_count": 60,
   "metadata": {},
   "outputs": [
    {
     "name": "stdout",
     "output_type": "stream",
     "text": [
      "Total no of images 0\n"
     ]
    }
   ],
   "source": [
    "print(f'Total no of images {len(files)}')"
   ]
  },
  {
   "cell_type": "code",
   "execution_count": 61,
   "metadata": {},
   "outputs": [],
   "source": [
    "no_of_images = 25000"
   ]
  },
  {
   "cell_type": "code",
   "execution_count": 62,
   "metadata": {},
   "outputs": [],
   "source": [
    "no_of_images = len(files)"
   ]
  },
  {
   "cell_type": "code",
   "execution_count": 63,
   "metadata": {},
   "outputs": [
    {
     "data": {
      "text/plain": [
       "0.0"
      ]
     },
     "execution_count": 63,
     "metadata": {},
     "output_type": "execute_result"
    }
   ],
   "source": [
    "no_of_images*0.8"
   ]
  },
  {
   "cell_type": "code",
   "execution_count": 64,
   "metadata": {},
   "outputs": [],
   "source": [
    "shuffle = np.random.permutation(no_of_images)"
   ]
  },
  {
   "cell_type": "code",
   "execution_count": 65,
   "metadata": {},
   "outputs": [],
   "source": [
    "for i in shuffle[:2000]:\n",
    "    #shutil.copyfile(files[i],'../chapter3/dogsandcats/valid/')\n",
    "    folder = files[i].split('/')[-1].split('.')[0]\n",
    "    image = files[i].split('/')[-1]\n",
    "    os.rename(files[i],os.path.join(path,'valid',folder,image))"
   ]
  },
  {
   "cell_type": "code",
   "execution_count": 66,
   "metadata": {},
   "outputs": [],
   "source": [
    "for i in shuffle[2000:]:\n",
    "    #shutil.copyfile(files[i],'../chapter3/dogsandcats/valid/')\n",
    "    folder = files[i].split('/')[-1].split('.')[0]\n",
    "    image = files[i].split('/')[-1]\n",
    "    os.rename(files[i],os.path.join(path,'train',folder,image))"
   ]
  },
  {
   "cell_type": "markdown",
   "metadata": {},
   "source": [
    "# Check if GPU is present"
   ]
  },
  {
   "cell_type": "code",
   "execution_count": 67,
   "metadata": {},
   "outputs": [],
   "source": [
    "if torch.cuda.is_available():\n",
    "    is_cuda = True"
   ]
  },
  {
   "cell_type": "markdown",
   "metadata": {},
   "source": [
    "# Load data into PyTorch tensors"
   ]
  },
  {
   "cell_type": "code",
   "execution_count": 68,
   "metadata": {},
   "outputs": [],
   "source": [
    "simple_transform = transforms.Compose([transforms.Resize((224,224))\n",
    "                                       ,transforms.ToTensor()\n",
    "                                       ,transforms.Normalize([0.485, 0.456, 0.406], [0.229, 0.224, 0.225])])\n",
    "train = ImageFolder('C:/Users/UTP/Desktop/Pythonbooks/data1/dogsandcats/train/',simple_transform)\n",
    "valid = ImageFolder('C:/Users/UTP/Desktop/Pythonbooks/data1/dogsandcats/valid/',simple_transform)"
   ]
  },
  {
   "cell_type": "code",
   "execution_count": 69,
   "metadata": {},
   "outputs": [
    {
     "name": "stdout",
     "output_type": "stream",
     "text": [
      "{'cat': 0, 'cats': 1, 'dog': 2, 'dogs': 3}\n",
      "['cat', 'cats', 'dog', 'dogs']\n"
     ]
    }
   ],
   "source": [
    "print(train.class_to_idx)\n",
    "print(train.classes) "
   ]
  },
  {
   "cell_type": "code",
   "execution_count": 70,
   "metadata": {},
   "outputs": [
    {
     "data": {
      "image/png": "[encoded data removed]",
      "text/plain": [
       "<Figure size 432x288 with 1 Axes>"
      ]
     },
     "metadata": {},
     "output_type": "display_data"
    }
   ],
   "source": [
    "imshow(train[52][0])"
   ]
  },
  {
   "cell_type": "markdown",
   "metadata": {},
   "source": [
    "# Weights and baises of pre-trained Networks"
   ]
  },
  {
   "cell_type": "markdown",
   "metadata": {},
   "source": [
    "# import torchvision.models as models\n",
    "resnet18 = models.resnet18()\n",
    "alexnet = models.alexnet()\n",
    "vgg16 = models.vgg16()\n",
    "squeezenet = models.squeezenet1_0()\n",
    "densenet = models.densenet161()\n",
    "inception = models.inception_v3()"
   ]
  },
  {
   "cell_type": "markdown",
   "metadata": {},
   "source": [
    "# These can be constructed by passing pretrained=True:\n",
    "\n",
    "import torchvision.models as models\n",
    "resnet18 = models.resnet18(pretrained=True)\n",
    "alexnet = models.alexnet(pretrained=True)\n",
    "squeezenet = models.squeezenet1_0(pretrained=True)\n",
    "vgg16 = models.vgg16(pretrained=True)\n",
    "densenet = models.densenet161(pretrained=True)\n",
    "inception = models.inception_v3(pretrained=True)"
   ]
  },
  {
   "cell_type": "code",
   "execution_count": 40,
   "metadata": {},
   "outputs": [],
   "source": [
    "import torch\n",
    "import torchvision\n",
    "import torchvision.transforms as transforms\n",
    "import matplotlib.pyplot as plt\n",
    "import numpy as np\n",
    "import torch.nn as nn\n",
    "import torch.nn.functional as F\n",
    "import torch.autograd as autograd\n",
    "import torch.autograd as Variable"
   ]
  },
  {
   "cell_type": "code",
   "execution_count": 41,
   "metadata": {},
   "outputs": [],
   "source": [
    "import torchvision.models as models\n",
    "alexnet = models.alexnet()"
   ]
  },
  {
   "cell_type": "code",
   "execution_count": 42,
   "metadata": {},
   "outputs": [
    {
     "data": {
      "text/plain": [
       "AlexNet(\n",
       "  (features): Sequential(\n",
       "    (0): Conv2d(3, 64, kernel_size=(11, 11), stride=(4, 4), padding=(2, 2))\n",
       "    (1): ReLU(inplace)\n",
       "    (2): MaxPool2d(kernel_size=3, stride=2, padding=0, dilation=1, ceil_mode=False)\n",
       "    (3): Conv2d(64, 192, kernel_size=(5, 5), stride=(1, 1), padding=(2, 2))\n",
       "    (4): ReLU(inplace)\n",
       "    (5): MaxPool2d(kernel_size=3, stride=2, padding=0, dilation=1, ceil_mode=False)\n",
       "    (6): Conv2d(192, 384, kernel_size=(3, 3), stride=(1, 1), padding=(1, 1))\n",
       "    (7): ReLU(inplace)\n",
       "    (8): Conv2d(384, 256, kernel_size=(3, 3), stride=(1, 1), padding=(1, 1))\n",
       "    (9): ReLU(inplace)\n",
       "    (10): Conv2d(256, 256, kernel_size=(3, 3), stride=(1, 1), padding=(1, 1))\n",
       "    (11): ReLU(inplace)\n",
       "    (12): MaxPool2d(kernel_size=3, stride=2, padding=0, dilation=1, ceil_mode=False)\n",
       "  )\n",
       "  (classifier): Sequential(\n",
       "    (0): Dropout(p=0.5)\n",
       "    (1): Linear(in_features=9216, out_features=4096, bias=True)\n",
       "    (2): ReLU(inplace)\n",
       "    (3): Dropout(p=0.5)\n",
       "    (4): Linear(in_features=4096, out_features=4096, bias=True)\n",
       "    (5): ReLU(inplace)\n",
       "    (6): Linear(in_features=4096, out_features=1000, bias=True)\n",
       "  )\n",
       ")"
      ]
     },
     "execution_count": 42,
     "metadata": {},
     "output_type": "execute_result"
    }
   ],
   "source": [
    "alexnet"
   ]
  },
  {
   "cell_type": "code",
   "execution_count": 71,
   "metadata": {},
   "outputs": [
    {
     "data": {
      "text/plain": [
       "Conv2d(3, 64, kernel_size=(11, 11), stride=(4, 4), padding=(2, 2))"
      ]
     },
     "execution_count": 71,
     "metadata": {},
     "output_type": "execute_result"
    }
   ],
   "source": [
    "alexnet.features[0]"
   ]
  },
  {
   "cell_type": "code",
   "execution_count": 72,
   "metadata": {},
   "outputs": [],
   "source": [
    "Weights1=alexnet.features[0].weight"
   ]
  },
  {
   "cell_type": "code",
   "execution_count": 73,
   "metadata": {},
   "outputs": [
    {
     "data": {
      "text/plain": [
       "Parameter containing:\n",
       "tensor([[[[ 4.9623e-02, -4.2561e-02,  8.1229e-03,  ..., -3.3468e-02,\n",
       "            3.3768e-02, -2.8501e-02],\n",
       "          [-2.6628e-02,  2.4971e-03,  1.9835e-02,  ...,  2.4164e-02,\n",
       "            5.0365e-02,  2.1778e-02],\n",
       "          [-1.8695e-02,  4.4867e-02,  1.2958e-02,  ...,  1.1236e-02,\n",
       "           -3.8377e-02, -4.8797e-02],\n",
       "          ...,\n",
       "          [ 1.1894e-02, -8.3151e-03,  2.7656e-02,  ..., -1.5279e-02,\n",
       "            9.6467e-03, -2.4957e-02],\n",
       "          [-4.6668e-02, -2.1237e-02,  5.0330e-02,  ..., -2.8713e-02,\n",
       "            1.9081e-02, -3.8028e-02],\n",
       "          [ 2.1412e-02, -3.2898e-02, -1.0557e-02,  ...,  2.1633e-02,\n",
       "           -1.1116e-02,  3.3504e-02]],\n",
       "\n",
       "         [[ 1.4615e-02, -2.9147e-02, -5.1625e-02,  ..., -3.6182e-02,\n",
       "           -4.5420e-02,  2.6446e-02],\n",
       "          [-2.8822e-03,  5.0896e-02, -3.3538e-02,  ..., -6.0065e-03,\n",
       "            7.8978e-03,  1.9600e-02],\n",
       "          [-3.7312e-02, -3.8352e-02, -1.8986e-02,  ...,  1.9276e-02,\n",
       "            4.6594e-02,  3.1994e-02],\n",
       "          ...,\n",
       "          [-5.0370e-03,  2.3305e-02, -4.0778e-02,  ...,  2.5643e-02,\n",
       "            7.1446e-03,  3.1590e-02],\n",
       "          [-4.5193e-02,  4.7321e-02,  4.5450e-02,  ...,  4.7185e-02,\n",
       "            2.5296e-02,  3.4635e-02],\n",
       "          [-3.9050e-03, -2.2685e-03,  1.2803e-02,  ...,  5.1849e-02,\n",
       "            2.1567e-02,  2.3439e-02]],\n",
       "\n",
       "         [[-4.4047e-02,  1.4096e-02,  4.5874e-02,  ...,  2.8597e-02,\n",
       "           -2.4407e-02,  5.2256e-02],\n",
       "          [-3.1039e-02, -1.9269e-02, -3.6890e-02,  ..., -2.7611e-03,\n",
       "            3.0563e-02, -9.1819e-03],\n",
       "          [-4.2844e-02, -1.8057e-02,  1.3547e-02,  ..., -4.4955e-02,\n",
       "            4.8889e-02, -2.3814e-02],\n",
       "          ...,\n",
       "          [-4.5624e-02, -1.0219e-02,  3.1674e-02,  ...,  1.3637e-03,\n",
       "            7.6921e-03, -7.5549e-03],\n",
       "          [ 2.8927e-02,  7.2877e-04, -1.4146e-02,  ..., -5.2456e-04,\n",
       "           -3.5403e-02,  3.6757e-02],\n",
       "          [ 4.5814e-02, -4.9976e-02,  3.3624e-03,  ..., -5.2405e-02,\n",
       "            1.4507e-02, -4.9609e-02]]],\n",
       "\n",
       "\n",
       "        [[[-2.2690e-02, -8.2681e-03, -1.3437e-02,  ...,  4.0159e-02,\n",
       "           -2.4982e-03, -2.9934e-02],\n",
       "          [-3.3909e-02, -3.1031e-02,  3.8350e-02,  ..., -2.4420e-02,\n",
       "            1.8476e-02,  3.1347e-02],\n",
       "          [-2.3699e-02, -4.4838e-02, -1.2203e-02,  ..., -4.8236e-03,\n",
       "           -1.5828e-02,  3.6950e-02],\n",
       "          ...,\n",
       "          [ 2.0751e-02, -1.7671e-02, -3.2147e-02,  ..., -5.4211e-03,\n",
       "            2.1330e-02, -4.3426e-02],\n",
       "          [-2.3581e-02,  2.3326e-02, -3.4279e-02,  ...,  4.8005e-02,\n",
       "           -5.1367e-02,  5.1116e-02],\n",
       "          [-4.0528e-02, -2.9832e-02,  2.5425e-02,  ...,  3.6626e-02,\n",
       "           -1.4125e-02, -4.2842e-02]],\n",
       "\n",
       "         [[-3.6743e-02,  3.2468e-02, -1.8273e-02,  ...,  2.4231e-02,\n",
       "            3.3593e-02, -2.4634e-02],\n",
       "          [ 3.4163e-02,  3.6525e-03,  2.6324e-02,  ...,  2.3123e-02,\n",
       "            2.1658e-02,  3.6209e-02],\n",
       "          [-3.6699e-02,  1.5273e-02,  3.4417e-02,  ...,  2.6555e-02,\n",
       "            4.4775e-02,  4.9723e-02],\n",
       "          ...,\n",
       "          [ 2.1752e-02, -9.3864e-03, -3.7497e-02,  ...,  2.5014e-02,\n",
       "           -2.7886e-02, -3.4911e-02],\n",
       "          [ 4.3948e-02, -1.8207e-02, -7.6245e-03,  ...,  3.5383e-02,\n",
       "           -1.3890e-03,  5.5320e-03],\n",
       "          [-4.6157e-02, -9.8115e-03,  2.3664e-02,  ..., -2.8915e-02,\n",
       "            9.7479e-03,  1.3793e-02]],\n",
       "\n",
       "         [[ 2.8286e-02,  4.2219e-02,  1.6914e-02,  ...,  2.7992e-02,\n",
       "           -4.5111e-02,  1.0889e-04],\n",
       "          [ 3.4045e-02, -3.0391e-02, -1.9008e-02,  ...,  3.1747e-02,\n",
       "            2.7164e-02,  3.5835e-02],\n",
       "          [ 2.3560e-02,  4.6145e-03, -2.7155e-02,  ...,  8.7649e-03,\n",
       "           -3.8790e-02,  5.1801e-02],\n",
       "          ...,\n",
       "          [-4.5851e-02,  4.6307e-02, -7.0877e-03,  ...,  2.6664e-02,\n",
       "           -7.4861e-03, -1.8103e-02],\n",
       "          [ 8.7256e-03, -2.3431e-02,  2.2005e-03,  ...,  2.1694e-02,\n",
       "           -3.6914e-02, -1.1904e-02],\n",
       "          [-3.0146e-02, -3.8963e-02, -3.9367e-02,  ...,  9.9752e-03,\n",
       "           -3.4360e-02, -2.0910e-02]]],\n",
       "\n",
       "\n",
       "        [[[ 3.6762e-02, -1.7308e-02,  1.0351e-02,  ...,  2.4297e-02,\n",
       "            2.9284e-02, -3.0340e-02],\n",
       "          [-3.1931e-02, -2.6839e-02, -2.8287e-02,  ..., -1.9310e-02,\n",
       "            3.7824e-02,  1.5943e-03],\n",
       "          [ 9.8261e-03, -4.6975e-02,  7.5821e-03,  ..., -3.4449e-02,\n",
       "           -4.2088e-02, -4.0602e-03],\n",
       "          ...,\n",
       "          [ 3.5482e-02, -3.9021e-02,  7.4643e-03,  ..., -2.8570e-02,\n",
       "           -4.4352e-02, -1.1666e-02],\n",
       "          [-7.9565e-03,  3.4297e-03, -4.7519e-02,  ..., -1.7220e-02,\n",
       "            2.6630e-02,  8.9234e-03],\n",
       "          [-2.7815e-02, -4.2129e-02, -4.2460e-02,  ...,  3.8003e-02,\n",
       "           -4.0079e-02, -2.5714e-02]],\n",
       "\n",
       "         [[ 1.7283e-04,  4.0048e-02,  3.2063e-02,  ...,  5.1797e-02,\n",
       "            1.4617e-02,  6.2235e-03],\n",
       "          [-3.6023e-02,  5.0919e-02,  3.6516e-02,  ...,  2.2187e-02,\n",
       "            4.9706e-02,  2.1319e-02],\n",
       "          [-3.0367e-02, -1.4036e-03, -2.7945e-03,  ..., -5.1817e-02,\n",
       "            4.4704e-02, -1.6030e-02],\n",
       "          ...,\n",
       "          [ 7.3887e-03,  1.0220e-02, -2.6694e-02,  ...,  1.2895e-02,\n",
       "            2.8049e-02, -2.3861e-02],\n",
       "          [ 2.4196e-02,  4.4984e-02,  1.0189e-02,  ..., -1.2646e-02,\n",
       "            3.9428e-02, -4.9107e-02],\n",
       "          [-2.7006e-02, -2.5201e-02, -4.3343e-02,  ..., -2.4895e-02,\n",
       "            3.9489e-03,  4.5134e-02]],\n",
       "\n",
       "         [[ 7.8968e-03,  1.3815e-02,  1.1207e-02,  ..., -2.4922e-02,\n",
       "           -5.2443e-02,  4.4699e-02],\n",
       "          [-4.4142e-02, -3.3300e-02,  3.9353e-02,  ..., -2.1348e-02,\n",
       "           -1.4195e-02, -1.0877e-02],\n",
       "          [-3.0427e-02,  9.0323e-03,  3.2204e-02,  ..., -1.8007e-02,\n",
       "           -4.6534e-02,  1.8272e-02],\n",
       "          ...,\n",
       "          [-4.8923e-02,  1.7933e-03, -2.7063e-02,  ...,  2.8748e-02,\n",
       "           -3.6196e-03, -5.2349e-02],\n",
       "          [ 2.1730e-02,  9.9918e-03,  2.3019e-02,  ...,  4.6290e-02,\n",
       "           -3.6838e-02, -2.8953e-02],\n",
       "          [ 1.8245e-02,  4.5553e-02,  2.8557e-02,  ..., -1.8210e-02,\n",
       "           -3.1452e-02, -3.8917e-02]]],\n",
       "\n",
       "\n",
       "        ...,\n",
       "\n",
       "\n",
       "        [[[ 4.8094e-02, -5.0828e-02,  3.8325e-02,  ...,  2.7905e-02,\n",
       "            8.4265e-03,  3.4184e-02],\n",
       "          [-4.7418e-02,  4.5849e-02,  4.1071e-02,  ...,  4.8226e-02,\n",
       "            4.8415e-02, -2.7878e-02],\n",
       "          [ 5.0955e-02,  4.6534e-02, -1.1010e-02,  ...,  1.2364e-02,\n",
       "           -5.0728e-02, -5.0457e-02],\n",
       "          ...,\n",
       "          [-5.2190e-02, -5.1103e-02, -1.1961e-02,  ..., -1.0908e-02,\n",
       "            4.1331e-02, -1.7557e-02],\n",
       "          [ 5.0435e-02, -1.2654e-02,  4.8360e-02,  ...,  3.7672e-02,\n",
       "           -5.0617e-02,  2.7993e-02],\n",
       "          [-2.8576e-03,  3.7998e-02,  3.8911e-02,  ...,  4.4792e-02,\n",
       "            5.0878e-02, -1.7959e-02]],\n",
       "\n",
       "         [[ 3.6733e-02,  5.0367e-02, -4.5391e-02,  ..., -1.8870e-02,\n",
       "            3.3682e-02, -2.6805e-02],\n",
       "          [ 8.1155e-03, -3.6432e-02, -7.6505e-03,  ..., -5.1152e-04,\n",
       "            4.3351e-02, -4.7012e-02],\n",
       "          [ 2.2247e-02,  4.6118e-02, -3.0219e-02,  ...,  2.2651e-02,\n",
       "           -3.9285e-02, -3.2433e-02],\n",
       "          ...,\n",
       "          [-4.5595e-02,  2.8976e-02,  1.9913e-02,  ...,  1.7602e-02,\n",
       "           -3.6631e-02,  4.0211e-04],\n",
       "          [-2.4137e-02,  3.7498e-02,  1.9587e-02,  ..., -2.7825e-02,\n",
       "           -1.6715e-02,  1.2053e-02],\n",
       "          [ 1.7965e-02, -4.6194e-02,  2.0625e-02,  ..., -1.3259e-02,\n",
       "            6.7431e-03, -1.4584e-02]],\n",
       "\n",
       "         [[-3.6044e-02, -2.5870e-03, -4.8801e-02,  ...,  4.8172e-02,\n",
       "            3.3847e-02,  4.1998e-02],\n",
       "          [-3.8654e-02, -8.0218e-03, -3.1462e-02,  ..., -1.7171e-02,\n",
       "            7.6673e-03, -7.0079e-03],\n",
       "          [-4.7600e-02,  4.3755e-02,  3.2599e-02,  ...,  3.1674e-02,\n",
       "            1.7307e-02,  3.1657e-03],\n",
       "          ...,\n",
       "          [-1.6137e-02,  4.7473e-03, -5.3510e-03,  ..., -4.0100e-02,\n",
       "            2.1270e-02, -4.6792e-02],\n",
       "          [-1.4491e-02,  2.3393e-02, -3.5532e-02,  ...,  4.9880e-02,\n",
       "           -4.2366e-02, -2.2330e-03],\n",
       "          [-2.2021e-03,  4.4938e-02, -1.9715e-02,  ...,  1.9224e-02,\n",
       "            4.1024e-02, -2.7500e-02]]],\n",
       "\n",
       "\n",
       "        [[[ 3.0257e-02, -5.0679e-02,  2.6310e-02,  ...,  8.6811e-03,\n",
       "           -4.6660e-02,  1.7922e-02],\n",
       "          [-1.0662e-02,  5.1148e-02,  4.3403e-02,  ...,  1.9549e-02,\n",
       "            3.0573e-03, -4.9194e-02],\n",
       "          [ 2.7107e-02, -2.4259e-02,  5.1073e-02,  ...,  8.6320e-03,\n",
       "           -3.6185e-02, -3.7849e-02],\n",
       "          ...,\n",
       "          [-1.1443e-02, -3.1867e-02, -3.0546e-02,  ...,  3.7020e-02,\n",
       "            2.2445e-02,  3.3552e-02],\n",
       "          [-2.2272e-02, -3.1802e-02,  4.6842e-02,  ...,  2.1384e-02,\n",
       "           -1.2326e-02, -2.3637e-02],\n",
       "          [-2.0440e-02,  1.9304e-02, -6.3674e-03,  ...,  1.9980e-02,\n",
       "            4.3694e-02, -4.4255e-02]],\n",
       "\n",
       "         [[ 4.9105e-02, -4.6065e-02, -2.3235e-02,  ...,  1.7191e-02,\n",
       "            3.1839e-02,  1.3017e-02],\n",
       "          [-3.1278e-02, -3.1646e-02, -2.8545e-02,  ..., -1.7949e-02,\n",
       "           -1.1366e-02,  3.0921e-02],\n",
       "          [-2.2763e-02,  2.4132e-02,  6.9114e-03,  ..., -7.5076e-03,\n",
       "            3.1240e-02,  3.6310e-02],\n",
       "          ...,\n",
       "          [ 2.4153e-02, -1.6661e-02,  2.8609e-02,  ...,  4.1381e-02,\n",
       "            2.1178e-02, -3.1969e-02],\n",
       "          [-1.8227e-03, -4.3375e-02,  3.9703e-02,  ..., -4.9278e-02,\n",
       "           -3.9892e-02,  2.9675e-02],\n",
       "          [ 1.1351e-02,  2.7327e-02,  2.1310e-02,  ..., -2.7828e-02,\n",
       "           -1.6490e-02, -4.7806e-02]],\n",
       "\n",
       "         [[-3.0815e-02,  2.6020e-02, -2.2107e-02,  ..., -5.1912e-02,\n",
       "           -4.0382e-02, -1.7545e-02],\n",
       "          [ 1.6353e-02, -3.7427e-02,  2.1695e-02,  ...,  2.8857e-02,\n",
       "            6.7344e-03, -1.5549e-02],\n",
       "          [-4.6125e-02, -5.4660e-03, -3.2049e-02,  ..., -3.7396e-02,\n",
       "           -2.2218e-03,  3.3166e-02],\n",
       "          ...,\n",
       "          [-6.8147e-03, -8.5964e-03,  2.1548e-02,  ..., -5.1859e-03,\n",
       "           -2.2905e-02,  4.6407e-02],\n",
       "          [-4.2196e-05, -1.7485e-02,  3.7142e-02,  ..., -4.8101e-02,\n",
       "           -1.6647e-02, -3.9512e-02],\n",
       "          [ 2.2922e-02,  4.2966e-02,  4.4011e-02,  ..., -1.2988e-02,\n",
       "           -2.9545e-02, -2.8387e-02]]],\n",
       "\n",
       "\n",
       "        [[[ 2.4491e-02,  3.7975e-02,  5.0497e-02,  ..., -8.8633e-03,\n",
       "           -3.4743e-02,  3.2118e-02],\n",
       "          [ 5.1553e-02,  7.6151e-03,  4.8628e-03,  ..., -5.0958e-02,\n",
       "           -8.1469e-03, -4.7995e-02],\n",
       "          [ 3.7196e-02,  3.8182e-02,  1.1647e-02,  ..., -2.1376e-02,\n",
       "           -8.9824e-03, -3.3701e-02],\n",
       "          ...,\n",
       "          [-9.8118e-03, -2.3787e-02,  8.2784e-03,  ..., -1.2296e-02,\n",
       "            9.8110e-03,  3.0155e-02],\n",
       "          [-1.3646e-02, -3.3690e-02, -3.7281e-02,  ...,  1.4672e-02,\n",
       "            2.2131e-02, -4.5028e-03],\n",
       "          [ 3.4922e-02, -7.5773e-03,  3.9403e-02,  ..., -1.4401e-02,\n",
       "            4.6716e-02, -3.7390e-02]],\n",
       "\n",
       "         [[-4.2802e-02,  2.1785e-02,  3.7536e-02,  ...,  2.4396e-02,\n",
       "           -2.7216e-02,  3.5060e-02],\n",
       "          [ 4.4617e-02, -3.0033e-02,  4.9905e-03,  ...,  3.9905e-02,\n",
       "           -1.2897e-02,  5.2307e-02],\n",
       "          [ 4.9987e-02, -2.2392e-03,  1.6596e-02,  ...,  3.1821e-02,\n",
       "           -2.2810e-02, -4.3969e-02],\n",
       "          ...,\n",
       "          [ 1.2668e-02,  9.5139e-04, -2.8910e-02,  ...,  4.6781e-02,\n",
       "            9.3091e-03, -3.5481e-02],\n",
       "          [-4.3484e-02,  1.1695e-02, -1.7032e-02,  ...,  2.2791e-02,\n",
       "           -5.0494e-02,  2.9147e-02],\n",
       "          [ 1.6062e-03, -2.4957e-02,  1.8861e-02,  ...,  3.4605e-02,\n",
       "           -2.7361e-02, -1.6490e-02]],\n",
       "\n",
       "         [[ 1.7007e-02, -2.1698e-02, -7.3081e-03,  ...,  1.1551e-02,\n",
       "            3.8173e-02, -1.5219e-02],\n",
       "          [ 2.7553e-02, -3.2781e-02,  1.3861e-02,  ..., -3.1960e-02,\n",
       "           -2.8064e-02, -2.5594e-02],\n",
       "          [ 2.0410e-02, -3.7883e-02,  5.0122e-02,  ..., -1.7720e-02,\n",
       "           -1.4764e-02, -2.5565e-02],\n",
       "          ...,\n",
       "          [ 1.2112e-02,  3.2238e-02,  3.9381e-02,  ..., -5.1797e-02,\n",
       "           -2.6001e-02,  4.6495e-02],\n",
       "          [ 3.7301e-02, -1.3097e-02,  2.5350e-02,  ...,  5.7171e-03,\n",
       "           -4.5181e-02, -2.0528e-02],\n",
       "          [ 1.3981e-02,  3.6097e-03, -5.1408e-02,  ..., -2.3591e-02,\n",
       "           -2.2498e-02,  4.8229e-02]]]], requires_grad=True)"
      ]
     },
     "execution_count": 73,
     "metadata": {},
     "output_type": "execute_result"
    }
   ],
   "source": [
    "Weights1"
   ]
  },
  {
   "cell_type": "code",
   "execution_count": 74,
   "metadata": {},
   "outputs": [],
   "source": [
    "bias1=alexnet.features[0].bias"
   ]
  },
  {
   "cell_type": "code",
   "execution_count": 75,
   "metadata": {},
   "outputs": [
    {
     "data": {
      "text/plain": [
       "Parameter containing:\n",
       "tensor([-0.0036,  0.0284,  0.0437, -0.0516,  0.0468, -0.0244, -0.0429,  0.0146,\n",
       "        -0.0330, -0.0489,  0.0012, -0.0045,  0.0340,  0.0238, -0.0075, -0.0344,\n",
       "        -0.0407,  0.0420, -0.0466,  0.0064,  0.0046, -0.0459, -0.0205,  0.0511,\n",
       "        -0.0224, -0.0170,  0.0210, -0.0216, -0.0433,  0.0385,  0.0232, -0.0019,\n",
       "        -0.0325,  0.0483,  0.0249,  0.0131,  0.0093, -0.0072,  0.0328,  0.0237,\n",
       "        -0.0254,  0.0520, -0.0343,  0.0443, -0.0244,  0.0112, -0.0456, -0.0013,\n",
       "         0.0149, -0.0169,  0.0271, -0.0201, -0.0068, -0.0043,  0.0372,  0.0495,\n",
       "         0.0181,  0.0407, -0.0337,  0.0182,  0.0177, -0.0259, -0.0285,  0.0059],\n",
       "       requires_grad=True)"
      ]
     },
     "execution_count": 75,
     "metadata": {},
     "output_type": "execute_result"
    }
   ],
   "source": [
    "bias1"
   ]
  },
  {
   "cell_type": "code",
   "execution_count": 76,
   "metadata": {},
   "outputs": [
    {
     "data": {
      "text/plain": [
       "torch.Size([64])"
      ]
     },
     "execution_count": 76,
     "metadata": {},
     "output_type": "execute_result"
    }
   ],
   "source": [
    "bias1.shape"
   ]
  },
  {
   "cell_type": "code",
   "execution_count": 77,
   "metadata": {},
   "outputs": [
    {
     "data": {
      "text/plain": [
       "torch.Size([64, 3, 11, 11])"
      ]
     },
     "execution_count": 77,
     "metadata": {},
     "output_type": "execute_result"
    }
   ],
   "source": [
    "Weights1.shape"
   ]
  },
  {
   "cell_type": "code",
   "execution_count": 102,
   "metadata": {},
   "outputs": [
    {
     "name": "stdout",
     "output_type": "stream",
     "text": [
      "----------------------------------------------------------------\n",
      "        Layer (type)               Output Shape         Param #\n",
      "================================================================\n",
      "            Conv2d-1           [-1, 10, 24, 24]             260\n",
      "            Conv2d-2             [-1, 20, 8, 8]           5,020\n",
      "         Dropout2d-3             [-1, 20, 8, 8]               0\n",
      "            Linear-4                   [-1, 50]          16,050\n",
      "            Linear-5                   [-1, 10]             510\n",
      "================================================================\n",
      "Total params: 21,840\n",
      "Trainable params: 21,840\n",
      "Non-trainable params: 0\n",
      "----------------------------------------------------------------\n"
     ]
    }
   ],
   "source": [
    "import torch\n",
    "import torch.nn as nn\n",
    "import torch.nn.functional as F\n",
    "from torchsummary import summary\n",
    "\n",
    "class Net(nn.Module):\n",
    "    def __init__(self):\n",
    "        super(Net, self).__init__()\n",
    "        self.conv1 = nn.Conv2d(1, 10, kernel_size=5)\n",
    "        self.conv2 = nn.Conv2d(10, 20, kernel_size=5)\n",
    "        self.conv2_drop = nn.Dropout2d()\n",
    "        self.fc1 = nn.Linear(320, 50)\n",
    "        self.fc2 = nn.Linear(50, 10)\n",
    "\n",
    "    def forward(self, x):\n",
    "        x = F.relu(F.max_pool2d(self.conv1(x), 2))\n",
    "        x = F.relu(F.max_pool2d(self.conv2_drop(self.conv2(x)), 2))\n",
    "        x = x.view(-1, 320)\n",
    "        x = F.relu(self.fc1(x))\n",
    "        x = F.dropout(x, training=self.training)\n",
    "        x = self.fc2(x)\n",
    "        return F.log_softmax(x, dim=1)\n",
    "\n",
    "device = torch.device(\"cuda\" if torch.cuda.is_available() else \"cpu\") # PyTorch v0.4.0\n",
    "model = Net().to(device)\n",
    "\n",
    "summary(model, (1, 28, 28))"
   ]
  },
  {
   "cell_type": "code",
   "execution_count": 25,
   "metadata": {},
   "outputs": [],
   "source": [
    "nn.Conv2d?"
   ]
  },
  {
   "cell_type": "markdown",
   "metadata": {},
   "source": [
    "# Classification using Dogandcats from sctrach-based CNN"
   ]
  },
  {
   "cell_type": "code",
   "execution_count": null,
   "metadata": {},
   "outputs": [],
   "source": [
    "from glob import glob\n",
    "import os\n",
    "import numpy as np\n",
    "import matplotlib.pyplot as plt\n",
    "import shutil\n",
    "from torchvision import transforms\n",
    "from torchvision import models\n",
    "import torch\n",
    "from torch.autograd import Variable\n",
    "import torch.nn as nn\n",
    "import torch.nn.functional as F\n",
    "from torch.optim import lr_scheduler\n",
    "from torch import optim\n",
    "from torchvision.datasets import ImageFolder\n",
    "from torchvision.utils import make_grid\n",
    "from torch.utils.data import Dataset,DataLoader\n",
    "import time\n",
    "%matplotlib inline"
   ]
  },
  {
   "cell_type": "code",
   "execution_count": null,
   "metadata": {},
   "outputs": [],
   "source": [
    "def imshow(inp,cmap=None):\n",
    "    \"\"\"Imshow for Tensor.\"\"\"\n",
    "    inp = inp.numpy().transpose((1, 2, 0))\n",
    "    mean = np.array([0.485, 0.456, 0.406])\n",
    "    std = np.array([0.229, 0.224, 0.225])\n",
    "    inp = std * inp + mean\n",
    "    inp = np.clip(inp, 0, 1)\n",
    "    plt.imshow(inp,cmap)"
   ]
  },
  {
   "cell_type": "markdown",
   "metadata": {},
   "source": [
    "# Load data into PyTorch tensors"
   ]
  },
  {
   "cell_type": "code",
   "execution_count": null,
   "metadata": {},
   "outputs": [],
   "source": [
    "simple_transform = transforms.Compose([transforms.Resize((224,224))\n",
    "                                       ,transforms.ToTensor()\n",
    "                                       ,transforms.Normalize([0.485, 0.456, 0.406], [0.229, 0.224, 0.225])\n",
    "                                      ])\n",
    "train = ImageFolder('C:/Users/UTP/Desktop/Pythonbooks/data1/dogsandcats/train/',simple_transform)\n",
    "valid = ImageFolder('C:/Users/UTP/Desktop/Pythonbooks/data1/dogsandcats/valid/',simple_transform)"
   ]
  },
  {
   "cell_type": "markdown",
   "metadata": {},
   "source": [
    "# Load Minimbatches from the dataset"
   ]
  },
  {
   "cell_type": "code",
   "execution_count": 63,
   "metadata": {},
   "outputs": [],
   "source": [
    "train_data_loader = torch.utils.data.DataLoader(train,batch_size=32,num_workers=3,shuffle=True)\n",
    "valid_data_loader = torch.utils.data.DataLoader(valid,batch_size=32,num_workers=3,shuffle=True)"
   ]
  },
  {
   "cell_type": "code",
   "execution_count": 64,
   "metadata": {},
   "outputs": [],
   "source": [
    "class Net(nn.Module):\n",
    "    def __init__(self):\n",
    "        super().__init__()\n",
    "        self.conv1 = nn.Conv2d(3, 10, kernel_size=5)\n",
    "        self.conv2 = nn.Conv2d(10, 20, kernel_size=5)\n",
    "        self.conv2_drop = nn.Dropout2d()\n",
    "        self.fc1 = nn.Linear(56180, 500)\n",
    "        self.fc2 = nn.Linear(500,50)\n",
    "        self.fc3 = nn.Linear(50, 2)\n",
    "\n",
    "    def forward(self, x):\n",
    "        x = F.relu(F.max_pool2d(self.conv1(x), 2))\n",
    "        x = F.relu(F.max_pool2d(self.conv2_drop(self.conv2(x)), 2))\n",
    "        x = x.view(x.size(0), -1)\n",
    "        x = F.relu(self.fc1(x))\n",
    "        x = F.dropout(x, training=self.training)\n",
    "        x = F.relu(self.fc2(x))\n",
    "        x = F.dropout(x,training=self.training)\n",
    "        x = self.fc3(x)\n",
    "        return F.log_softmax(x,dim=1)"
   ]
  },
  {
   "cell_type": "code",
   "execution_count": 65,
   "metadata": {},
   "outputs": [],
   "source": [
    "model = Net()\n",
    "#if is_cuda:\n",
    " #   model.cuda()"
   ]
  },
  {
   "cell_type": "code",
   "execution_count": 86,
   "metadata": {},
   "outputs": [
    {
     "data": {
      "text/plain": [
       "Net(\n",
       "  (conv1): Conv2d(3, 10, kernel_size=(5, 5), stride=(1, 1))\n",
       "  (conv2): Conv2d(10, 20, kernel_size=(5, 5), stride=(1, 1))\n",
       "  (conv2_drop): Dropout2d(p=0.5)\n",
       "  (fc1): Linear(in_features=56180, out_features=500, bias=True)\n",
       "  (fc2): Linear(in_features=500, out_features=50, bias=True)\n",
       "  (fc3): Linear(in_features=50, out_features=2, bias=True)\n",
       ")"
      ]
     },
     "execution_count": 86,
     "metadata": {},
     "output_type": "execute_result"
    }
   ],
   "source": [
    "model"
   ]
  },
  {
   "cell_type": "code",
   "execution_count": 66,
   "metadata": {},
   "outputs": [],
   "source": [
    "optimizer = optim.SGD(model.parameters(),lr=0.01,momentum=0.5)"
   ]
  },
  {
   "cell_type": "code",
   "execution_count": 67,
   "metadata": {},
   "outputs": [],
   "source": [
    "def fit(epoch,model,data_loader,phase='training',volatile=False):\n",
    "    if phase == 'training':\n",
    "        model.train()\n",
    "    if phase == 'validation':\n",
    "        model.eval()\n",
    "        volatile=True\n",
    "    running_loss = 0.0\n",
    "    running_correct = 0\n",
    "    for batch_idx , (data,target) in enumerate(data_loader):\n",
    "        if is_cuda:\n",
    "            data,target = data.cuda(),target.cuda()\n",
    "        data , target = Variable(data,volatile),Variable(target)\n",
    "        if phase == 'training':\n",
    "            optimizer.zero_grad()\n",
    "        output = model(data)\n",
    "        loss = F.nll_loss(output,target)\n",
    "        \n",
    "        running_loss += F.nll_loss(output,target,size_average=False).data[0]\n",
    "        preds = output.data.max(dim=1,keepdim=True)[1]\n",
    "        running_correct += preds.eq(target.data.view_as(preds)).cpu().sum()\n",
    "        if phase == 'training':\n",
    "            loss.backward()\n",
    "            optimizer.step()\n",
    "    \n",
    "    loss = running_loss/len(data_loader.dataset)\n",
    "    accuracy = 100. * running_correct/len(data_loader.dataset)\n",
    "    \n",
    "    print(f'{phase} loss is {loss:{5}.{2}} and {phase} accuracy is {running_correct}/{len(data_loader.dataset)}{accuracy:{10}.{4}}')\n",
    "    return loss,accuracy"
   ]
  },
  {
   "cell_type": "code",
   "execution_count": null,
   "metadata": {},
   "outputs": [],
   "source": [
    "train_losses , train_accuracy = [],[]\n",
    "val_losses , val_accuracy = [],[]\n",
    "for epoch in range(1,20):\n",
    "    epoch_loss, epoch_accuracy = fit(epoch,model,train_data_loader,phase='training')\n",
    "    val_epoch_loss , val_epoch_accuracy = fit(epoch,model,valid_data_loader,phase='validation')\n",
    "    train_losses.append(epoch_loss)\n",
    "    train_accuracy.append(epoch_accuracy)\n",
    "    val_losses.append(val_epoch_loss)\n",
    "    val_accuracy.append(val_epoch_accuracy)"
   ]
  },
  {
   "cell_type": "markdown",
   "metadata": {},
   "source": [
    "# Transfer Learning tutorial\n",
    "Based on Pre-trained Model we can make transfer learning based on hymenoptera dataset"
   ]
  },
  {
   "cell_type": "code",
   "execution_count": 1,
   "metadata": {},
   "outputs": [],
   "source": [
    "from __future__ import print_function, division\n",
    "\n",
    "import torch\n",
    "import torch.nn as nn\n",
    "import torch.optim as optim\n",
    "from torch.optim import lr_scheduler\n",
    "import numpy as np\n",
    "import torchvision\n",
    "from torchvision import datasets, models, transforms\n",
    "import matplotlib.pyplot as plt\n",
    "import time\n",
    "import os\n",
    "import copy\n",
    "\n",
    "plt.ion()   # interactive mode"
   ]
  },
  {
   "cell_type": "code",
   "execution_count": 2,
   "metadata": {},
   "outputs": [],
   "source": [
    "# Data augmentation and normalization for training\n",
    "# Just normalization for validation\n",
    "data_transforms = {\n",
    "    'train': transforms.Compose([\n",
    "        transforms.RandomResizedCrop(224),\n",
    "        transforms.RandomHorizontalFlip(),\n",
    "        transforms.ToTensor(),\n",
    "        transforms.Normalize([0.485, 0.456, 0.406], [0.229, 0.224, 0.225])\n",
    "    ]),\n",
    "    'val': transforms.Compose([\n",
    "        transforms.Resize(256),\n",
    "        transforms.CenterCrop(224),\n",
    "        transforms.ToTensor(),\n",
    "        transforms.Normalize([0.485, 0.456, 0.406], [0.229, 0.224, 0.225])\n",
    "    ]),\n",
    "}\n",
    "data_dir = 'C:/Users/UTP/Desktop\\Pythonbooks/hymenoptera_data/'\n",
    "#data_dir = 'hymenoptera_data'\n",
    "image_datasets = {x: datasets.ImageFolder(os.path.join(data_dir, x),\n",
    "                                          data_transforms[x])\n",
    "                  for x in ['train', 'val']}\n",
    "dataloaders = {x: torch.utils.data.DataLoader(image_datasets[x], batch_size=4,\n",
    "                                             shuffle=True, num_workers=4)\n",
    "              for x in ['train', 'val']}\n",
    "dataset_sizes = {x: len(image_datasets[x]) for x in ['train', 'val']}\n",
    "class_names = image_datasets['train'].classes\n",
    "device = torch.device(\"cuda:0\" if torch.cuda.is_available() else \"cpu\")"
   ]
  },
  {
   "cell_type": "code",
   "execution_count": 3,
   "metadata": {},
   "outputs": [
    {
     "data": {
      "image/png": "[encoded data removed]",
      "text/plain": [
       "<Figure size 432x288 with 1 Axes>"
      ]
     },
     "metadata": {},
     "output_type": "display_data"
    }
   ],
   "source": [
    "def imshow(inp, title=None):\n",
    "    \"\"\"Imshow for Tensor.\"\"\"\n",
    "    inp = inp.numpy().transpose((1, 2, 0))\n",
    "    mean = np.array([0.485, 0.456, 0.406])\n",
    "    std = np.array([0.229, 0.224, 0.225])\n",
    "    inp = std * inp + mean\n",
    "    inp = np.clip(inp, 0, 1)\n",
    "    plt.imshow(inp)\n",
    "    if title is not None:\n",
    "        plt.title(title)\n",
    "    plt.pause(0.001)  # pause a bit so that plots are updated\n",
    "\n",
    "\n",
    "# Get a batch of training data\n",
    "inputs, classes = next(iter(dataloaders['train']))\n",
    "\n",
    "# Make a grid from batch\n",
    "out = torchvision.utils.make_grid(inputs)\n",
    "\n",
    "imshow(out, title=[class_names[x] for x in classes])"
   ]
  },
  {
   "cell_type": "code",
   "execution_count": 4,
   "metadata": {},
   "outputs": [],
   "source": [
    "def train_model(model, criterion, optimizer, scheduler, num_epochs=3):\n",
    "    since = time.time()\n",
    "\n",
    "    best_model_wts = copy.deepcopy(model.state_dict())\n",
    "    best_acc = 0.0\n",
    "\n",
    "    for epoch in range(num_epochs):\n",
    "        print('Epoch {}/{}'.format(epoch, num_epochs - 1))\n",
    "        print('-' * 10)\n",
    "\n",
    "        # Each epoch has a training and validation phase\n",
    "        for phase in ['train', 'val']:\n",
    "            if phase == 'train':\n",
    "                scheduler.step()\n",
    "                model.train()  # Set model to training mode\n",
    "            else:\n",
    "                model.eval()   # Set model to evaluate mode\n",
    "\n",
    "            running_loss = 0.0\n",
    "            running_corrects = 0\n",
    "\n",
    "            # Iterate over data.\n",
    "            for inputs, labels in dataloaders[phase]:\n",
    "                inputs = inputs.to(device)\n",
    "                labels = labels.to(device)\n",
    "\n",
    "                # zero the parameter gradients\n",
    "                optimizer.zero_grad()\n",
    "\n",
    "                # forward\n",
    "                # track history if only in train\n",
    "                with torch.set_grad_enabled(phase == 'train'):\n",
    "                    outputs = model(inputs)\n",
    "                    _, preds = torch.max(outputs, 1)\n",
    "                    loss = criterion(outputs, labels)\n",
    "\n",
    "                    # backward + optimize only if in training phase\n",
    "                    if phase == 'train':\n",
    "                        loss.backward()\n",
    "                        optimizer.step()\n",
    "\n",
    "                # statistics\n",
    "                running_loss += loss.item() * inputs.size(0)\n",
    "                running_corrects += torch.sum(preds == labels.data)\n",
    "\n",
    "            epoch_loss = running_loss / dataset_sizes[phase]\n",
    "            epoch_acc = running_corrects.double() / dataset_sizes[phase]\n",
    "\n",
    "            print('{} Loss: {:.4f} Acc: {:.4f}'.format(\n",
    "                phase, epoch_loss, epoch_acc))\n",
    "\n",
    "            # deep copy the model\n",
    "            if phase == 'val' and epoch_acc > best_acc:\n",
    "                best_acc = epoch_acc\n",
    "                best_model_wts = copy.deepcopy(model.state_dict())\n",
    "\n",
    "        print()\n",
    "\n",
    "    time_elapsed = time.time() - since\n",
    "    print('Training complete in {:.0f}m {:.0f}s'.format(\n",
    "        time_elapsed // 60, time_elapsed % 60))\n",
    "    print('Best val Acc: {:4f}'.format(best_acc))\n",
    "\n",
    "    # load best model weights\n",
    "    model.load_state_dict(best_model_wts)\n",
    "    return model"
   ]
  },
  {
   "cell_type": "code",
   "execution_count": 5,
   "metadata": {},
   "outputs": [],
   "source": [
    "def visualize_model(model, num_images=6):\n",
    "    was_training = model.training\n",
    "    model.eval()\n",
    "    images_so_far = 0\n",
    "    fig = plt.figure()\n",
    "\n",
    "    with torch.no_grad():\n",
    "        for i, (inputs, labels) in enumerate(dataloaders['val']):\n",
    "            inputs = inputs.to(device)\n",
    "            labels = labels.to(device)\n",
    "\n",
    "            outputs = model(inputs)\n",
    "            _, preds = torch.max(outputs, 1)\n",
    "\n",
    "            for j in range(inputs.size()[0]):\n",
    "                images_so_far += 1\n",
    "                ax = plt.subplot(num_images//2, 2, images_so_far)\n",
    "                ax.axis('off')\n",
    "                ax.set_title('predicted: {}'.format(class_names[preds[j]]))\n",
    "                imshow(inputs.cpu().data[j])\n",
    "\n",
    "                if images_so_far == num_images:\n",
    "                    model.train(mode=was_training)\n",
    "                    return\n",
    "        model.train(mode=was_training)"
   ]
  },
  {
   "cell_type": "markdown",
   "metadata": {},
   "source": [
    "# Finetuning the convnet\n",
    "Load a pretrained model and reset final fully connected layer."
   ]
  },
  {
   "cell_type": "code",
   "execution_count": 6,
   "metadata": {},
   "outputs": [],
   "source": [
    "model_ft = models.resnet18(pretrained=True)\n",
    "num_ftrs = model_ft.fc.in_features\n",
    "model_ft.fc = nn.Linear(num_ftrs, 2)\n",
    "\n",
    "model_ft = model_ft.to(device)\n",
    "\n",
    "criterion = nn.CrossEntropyLoss()\n",
    "\n",
    "# Observe that all parameters are being optimized\n",
    "optimizer_ft = optim.SGD(model_ft.parameters(), lr=0.001, momentum=0.9)\n",
    "\n",
    "# Decay LR by a factor of 0.1 every 7 epochs\n",
    "exp_lr_scheduler = lr_scheduler.StepLR(optimizer_ft, step_size=7, gamma=0.1)"
   ]
  },
  {
   "cell_type": "markdown",
   "metadata": {},
   "source": [
    "# Train and evaluate\n",
    "It should take around 15-25 min on CPU. On GPU though, it takes less than a minute."
   ]
  },
  {
   "cell_type": "code",
   "execution_count": 7,
   "metadata": {},
   "outputs": [
    {
     "name": "stdout",
     "output_type": "stream",
     "text": [
      "Epoch 0/2\n",
      "----------\n",
      "train Loss: 0.5968 Acc: 0.6967\n",
      "val Loss: 0.3262 Acc: 0.8693\n",
      "\n",
      "Epoch 1/2\n",
      "----------\n",
      "train Loss: 0.6584 Acc: 0.7418\n",
      "val Loss: 0.3075 Acc: 0.9020\n",
      "\n",
      "Epoch 2/2\n",
      "----------\n",
      "train Loss: 0.5337 Acc: 0.8074\n",
      "val Loss: 0.2676 Acc: 0.8562\n",
      "\n",
      "Training complete in 3m 46s\n",
      "Best val Acc: 0.901961\n"
     ]
    }
   ],
   "source": [
    "model_ft = train_model(model_ft, criterion, optimizer_ft, exp_lr_scheduler,\n",
    "                       num_epochs=3)"
   ]
  },
  {
   "cell_type": "code",
   "execution_count": 8,
   "metadata": {},
   "outputs": [
    {
     "data": {
      "image/png": "[encoded data removed]",
      "text/plain": [
       "<Figure size 432x288 with 1 Axes>"
      ]
     },
     "metadata": {},
     "output_type": "display_data"
    },
    {
     "data": {
      "image/png": "[encoded data removed]",
      "text/plain": [
       "<Figure size 432x288 with 1 Axes>"
      ]
     },
     "metadata": {},
     "output_type": "display_data"
    },
    {
     "data": {
      "image/png": "[encoded data removed]",
      "text/plain": [
       "<Figure size 432x288 with 1 Axes>"
      ]
     },
     "metadata": {},
     "output_type": "display_data"
    },
    {
     "data": {
      "image/png": "[encoded data removed]",
      "text/plain": [
       "<Figure size 432x288 with 1 Axes>"
      ]
     },
     "metadata": {},
     "output_type": "display_data"
    },
    {
     "data": {
      "image/png": "[encoded data removed]",
      "text/plain": [
       "<Figure size 432x288 with 1 Axes>"
      ]
     },
     "metadata": {},
     "output_type": "display_data"
    },
    {
     "data": {
      "image/png": "[encoded data removed]",
      "text/plain": [
       "<Figure size 432x288 with 1 Axes>"
      ]
     },
     "metadata": {},
     "output_type": "display_data"
    }
   ],
   "source": [
    "visualize_model(model_ft)"
   ]
  },
  {
   "cell_type": "code",
   "execution_count": null,
   "metadata": {},
   "outputs": [],
   "source": []
  }
 ],
 "metadata": {
  "kernelspec": {
   "display_name": "Python 3",
   "language": "python",
   "name": "python3"
  },
  "language_info": {
   "codemirror_mode": {
    "name": "ipython",
    "version": 3
   },
   "file_extension": ".py",
   "mimetype": "text/x-python",
   "name": "python",
   "nbconvert_exporter": "python",
   "pygments_lexer": "ipython3",
   "version": "3.6.0"
  }
 },
 "nbformat": 4,
 "nbformat_minor": 2
}
